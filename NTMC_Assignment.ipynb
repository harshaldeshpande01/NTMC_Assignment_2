{
 "cells": [
  {
   "cell_type": "markdown",
   "metadata": {},
   "source": [
    "## NLP Assignment\n",
    "\n",
    "\n",
    "- Harshal Deshpande - BT18CSE079\n",
    "- Prachi Kalantri - BT18CSE136\n",
    "- Ajinkya Jadhav - BT18CSE145\n"
   ]
  },
  {
   "cell_type": "markdown",
   "metadata": {},
   "source": [
    "## Computation circuit "
   ]
  },
  {
   "cell_type": "code",
   "execution_count": 1,
   "metadata": {},
   "outputs": [],
   "source": [
    "import numpy as np\n",
    "import random\n",
    "\n",
    "from qiskit import *\n",
    "from qiskit.providers.aer import QasmSimulator\n",
    "from qiskit.visualization import plot_histogram"
   ]
  },
  {
   "cell_type": "code",
   "execution_count": 2,
   "metadata": {},
   "outputs": [],
   "source": [
    "# Total number of wires \n",
    "N = 8"
   ]
  },
  {
   "cell_type": "code",
   "execution_count": 3,
   "metadata": {},
   "outputs": [],
   "source": [
    "comp_circuit = QuantumCircuit(N)\n",
    "operations = []"
   ]
  },
  {
   "cell_type": "code",
   "execution_count": 4,
   "metadata": {},
   "outputs": [],
   "source": [
    "comp_circuit.h(0)\n",
    "operations.append(('0', 'H'))"
   ]
  },
  {
   "cell_type": "code",
   "execution_count": 5,
   "metadata": {},
   "outputs": [],
   "source": [
    "comp_circuit.cx(0, 1)\n",
    "operations.append(('01', 'LCNOT'))"
   ]
  },
  {
   "cell_type": "code",
   "execution_count": 6,
   "metadata": {},
   "outputs": [
    {
     "data": {
      "text/plain": [
       "<qiskit.circuit.instructionset.InstructionSet at 0x22171c08640>"
      ]
     },
     "execution_count": 6,
     "metadata": {},
     "output_type": "execute_result"
    }
   ],
   "source": [
    "comp_circuit.y(1)"
   ]
  },
  {
   "cell_type": "code",
   "execution_count": 7,
   "metadata": {},
   "outputs": [],
   "source": [
    "comp_circuit.p(180, 6)\n",
    "operations.append(('6', 'P'))"
   ]
  },
  {
   "cell_type": "code",
   "execution_count": 8,
   "metadata": {},
   "outputs": [
    {
     "data": {
      "text/plain": [
       "<qiskit.circuit.instructionset.InstructionSet at 0x22171bfd840>"
      ]
     },
     "execution_count": 8,
     "metadata": {},
     "output_type": "execute_result"
    }
   ],
   "source": [
    "comp_circuit.y(6)"
   ]
  },
  {
   "cell_type": "code",
   "execution_count": 9,
   "metadata": {},
   "outputs": [
    {
     "data": {
      "text/plain": [
       "<qiskit.circuit.instructionset.InstructionSet at 0x2213518a5c0>"
      ]
     },
     "execution_count": 9,
     "metadata": {},
     "output_type": "execute_result"
    }
   ],
   "source": [
    "comp_circuit.z(7)"
   ]
  },
  {
   "cell_type": "code",
   "execution_count": 10,
   "metadata": {},
   "outputs": [],
   "source": [
    "comp_circuit.r(180, 90, 0)\n",
    "operations.append(('0', 'R'))"
   ]
  },
  {
   "cell_type": "code",
   "execution_count": 11,
   "metadata": {},
   "outputs": [],
   "source": [
    "comp_circuit.h(1)\n",
    "comp_circuit.cx(1, 2)\n",
    "comp_circuit.h(6)\n",
    "comp_circuit.cx(6, 5)\n",
    "comp_circuit.cx(3, 4)\n",
    "operations.append(('12', 'NLCNOT'))"
   ]
  },
  {
   "cell_type": "code",
   "execution_count": 12,
   "metadata": {},
   "outputs": [
    {
     "data": {
      "text/html": [
       "<pre style=\"word-wrap: normal;white-space: pre;background: #fff0;line-height: 1.1;font-family: &quot;Courier New&quot;,Courier,monospace\">       ┌───┐        ┌───────────┐          \n",
       "q_0: ──┤ H ├─────■──┤ R(180,90) ├──────────\n",
       "       └───┘   ┌─┴─┐└───┬───┬───┘┌───┐     \n",
       "q_1: ──────────┤ X ├────┤ Y ├────┤ H ├──■──\n",
       "               └───┘    └───┘    └───┘┌─┴─┐\n",
       "q_2: ─────────────────────────────────┤ X ├\n",
       "                                      └───┘\n",
       "q_3: ────■─────────────────────────────────\n",
       "       ┌─┴─┐                               \n",
       "q_4: ──┤ X ├───────────────────────────────\n",
       "       └───┘                     ┌───┐     \n",
       "q_5: ────────────────────────────┤ X ├─────\n",
       "     ┌────────┐┌───┐    ┌───┐    └─┬─┘     \n",
       "q_6: ┤ P(180) ├┤ Y ├────┤ H ├──────■───────\n",
       "     └─┬───┬──┘└───┘    └───┘              \n",
       "q_7: ──┤ Z ├───────────────────────────────\n",
       "       └───┘                               </pre>"
      ],
      "text/plain": [
       "       ┌───┐        ┌───────────┐          \n",
       "q_0: ──┤ H ├─────■──┤ R(180,90) ├──────────\n",
       "       └───┘   ┌─┴─┐└───┬───┬───┘┌───┐     \n",
       "q_1: ──────────┤ X ├────┤ Y ├────┤ H ├──■──\n",
       "               └───┘    └───┘    └───┘┌─┴─┐\n",
       "q_2: ─────────────────────────────────┤ X ├\n",
       "                                      └───┘\n",
       "q_3: ────■─────────────────────────────────\n",
       "       ┌─┴─┐                               \n",
       "q_4: ──┤ X ├───────────────────────────────\n",
       "       └───┘                     ┌───┐     \n",
       "q_5: ────────────────────────────┤ X ├─────\n",
       "     ┌────────┐┌───┐    ┌───┐    └─┬─┘     \n",
       "q_6: ┤ P(180) ├┤ Y ├────┤ H ├──────■───────\n",
       "     └─┬───┬──┘└───┘    └───┘              \n",
       "q_7: ──┤ Z ├───────────────────────────────\n",
       "       └───┘                               "
      ]
     },
     "execution_count": 12,
     "metadata": {},
     "output_type": "execute_result"
    }
   ],
   "source": [
    "comp_circuit.draw()"
   ]
  },
  {
   "cell_type": "code",
   "execution_count": 13,
   "metadata": {},
   "outputs": [],
   "source": [
    "computation_circuit = comp_circuit.to_gate()"
   ]
  },
  {
   "cell_type": "code",
   "execution_count": 14,
   "metadata": {},
   "outputs": [
    {
     "name": "stdout",
     "output_type": "stream",
     "text": [
      "[('0', 'H'), ('01', 'LCNOT'), ('6', 'P'), ('0', 'R'), ('12', 'NLCNOT')]\n"
     ]
    },
    {
     "data": {
      "text/plain": [
       "qiskit.circuit.gate.Gate"
      ]
     },
     "execution_count": 14,
     "metadata": {},
     "output_type": "execute_result"
    }
   ],
   "source": [
    "print(operations)\n",
    "type(computation_circuit)"
   ]
  },
  {
   "cell_type": "markdown",
   "metadata": {},
   "source": [
    "## Initialization"
   ]
  },
  {
   "cell_type": "code",
   "execution_count": 15,
   "metadata": {},
   "outputs": [
    {
     "data": {
      "text/html": [
       "<pre style=\"word-wrap: normal;white-space: pre;background: #fff0;line-height: 1.1;font-family: &quot;Courier New&quot;,Courier,monospace\">     ┌────────────┐\n",
       "q_0: ┤0           ├\n",
       "     │            │\n",
       "q_1: ┤1           ├\n",
       "     │            │\n",
       "q_2: ┤2           ├\n",
       "     │            │\n",
       "q_3: ┤3           ├\n",
       "     │  circuit-2 │\n",
       "q_4: ┤4           ├\n",
       "     │            │\n",
       "q_5: ┤5           ├\n",
       "     │            │\n",
       "q_6: ┤6           ├\n",
       "     │            │\n",
       "q_7: ┤7           ├\n",
       "     └────────────┘\n",
       "c: 8/══════════════\n",
       "                   </pre>"
      ],
      "text/plain": [
       "     ┌────────────┐\n",
       "q_0: ┤0           ├\n",
       "     │            │\n",
       "q_1: ┤1           ├\n",
       "     │            │\n",
       "q_2: ┤2           ├\n",
       "     │            │\n",
       "q_3: ┤3           ├\n",
       "     │  circuit-2 │\n",
       "q_4: ┤4           ├\n",
       "     │            │\n",
       "q_5: ┤5           ├\n",
       "     │            │\n",
       "q_6: ┤6           ├\n",
       "     │            │\n",
       "q_7: ┤7           ├\n",
       "     └────────────┘\n",
       "c: 8/══════════════\n",
       "                   "
      ]
     },
     "execution_count": 15,
     "metadata": {},
     "output_type": "execute_result"
    }
   ],
   "source": [
    "# Both entities agree upon the computation circuit\n",
    "circuit = QuantumCircuit(N, N)\n",
    "circuit.append(computation_circuit, [0, 1, 2, 3, 4, 5, 6, 7])\n",
    "circuit.draw()"
   ]
  },
  {
   "cell_type": "code",
   "execution_count": 16,
   "metadata": {},
   "outputs": [],
   "source": [
    "# For all wires w ∈ A∪B, set their initial encryption keys as (0, 0)\n",
    "xa = [0] * N\n",
    "za = [0] * N\n",
    "xb = [0] * N\n",
    "zb = [0] * N"
   ]
  },
  {
   "cell_type": "code",
   "execution_count": 17,
   "metadata": {},
   "outputs": [],
   "source": [
    "# For all wires w ∈ A∪B, set their initial encryption keys as (0, 0)\n",
    "\n",
    "# Actula values\n",
    "# xa = [0] * N\n",
    "# za = [0] * N\n",
    "# xb = [0] * N\n",
    "# zb = [0] * N\n",
    "\n",
    "# For testing \n",
    "# xa = [1, 0, 0 , 0] \n",
    "# za = [0, 0, 0, 0]\n",
    "# xb = [0, 0, 0, 1]\n",
    "# zb = [0, 0, 1, 0]\n",
    "\n",
    "# print(xa, za, xb, zb)"
   ]
  },
  {
   "cell_type": "markdown",
   "metadata": {},
   "source": [
    "## Update keys and add decryption circuit"
   ]
  },
  {
   "cell_type": "code",
   "execution_count": 18,
   "metadata": {},
   "outputs": [],
   "source": [
    "for wire, op in operations:\n",
    "    if(op == 'H'):\n",
    "        wire = int(wire)\n",
    "        \n",
    "        temp = xa[wire]\n",
    "        xa[wire] = za[wire]\n",
    "        za[wire] = temp\n",
    "        \n",
    "        temp = xb[wire]\n",
    "        xb[wire] = zb[wire]\n",
    "        zb[wire] = temp\n",
    "        \n",
    "    elif(op == 'P'):\n",
    "        wire = int(wire)\n",
    "        \n",
    "        za[wire] = xa[wire] ^ za[wire]\n",
    "        zb[wire] = xb[wire] ^ zb[wire]\n",
    "            \n",
    "    elif(op == 'LCNOT'):\n",
    "        c = int(wire[0])\n",
    "        t = int(wire[1])\n",
    "        if(c < N/2):\n",
    "            za[c] = za[c] ^ za[t]\n",
    "            xa[t] = xa[t] ^ xa[c]\n",
    "        else:\n",
    "            zb[c] = zb[c] ^ zb[t]\n",
    "            xb[t] = xb[t] ^ xb[c]\n",
    "               \n",
    "    elif(op == 'R'):\n",
    "        wire = int(wire)\n",
    "\n",
    "        # \n",
    "        r = random.choice([0, 1])\n",
    "        r_dash = random.choice([0, 1])\n",
    "        s = random.choice([0, 1])\n",
    "        s_dash = random.choice([0, 1])\n",
    "        alpha = random.choice([0, 1])    \n",
    "        beta = alpha ^ ((r^xa[wire]) & xb[wire])\n",
    "        \n",
    "        # key updation\n",
    "        za[wire] = r_dash ^ alpha ^ za[wire] ^ xa[wire]\n",
    "        xa[wire] = xa[wire]^ r\n",
    "        \n",
    "        zb[wire] = s_dash ^ beta ^ zb[wire] ^ xb[wire]\n",
    "        xb[wire] = xb[wire]^ s\n",
    "        \n",
    "    elif(op == 'NLCNOT'):\n",
    "        c = int(wire[0])\n",
    "        t = int(wire[1])\n",
    "        "
   ]
  },
  {
   "cell_type": "code",
   "execution_count": 19,
   "metadata": {},
   "outputs": [
    {
     "name": "stdout",
     "output_type": "stream",
     "text": [
      "[0, 0, 0, 0, 0, 0, 0, 0] [1, 0, 0, 0, 0, 0, 0, 0] [1, 0, 0, 0, 0, 0, 0, 0] [0, 0, 0, 0, 0, 0, 0, 0]\n"
     ]
    }
   ],
   "source": [
    "print(xa, za, xb, zb)"
   ]
  },
  {
   "cell_type": "code",
   "execution_count": 20,
   "metadata": {},
   "outputs": [],
   "source": [
    "decrypt_circuit = QuantumCircuit(N)\n",
    "\n",
    "for i in range(0, N):\n",
    "    x = xa[i] ^ xb[i]\n",
    "    z = za[i] ^ zb[i]\n",
    "\n",
    "    if(x == 1 and z == 0):\n",
    "        decrypt_circuit.x(i)\n",
    "    elif(x == 0 and z == 1):\n",
    "        decrypt_circuit.z(i)\n",
    "    elif(x == 1 and z == 1):\n",
    "        decrypt_circuit.y(i)"
   ]
  },
  {
   "cell_type": "code",
   "execution_count": 21,
   "metadata": {},
   "outputs": [
    {
     "data": {
      "text/html": [
       "<pre style=\"word-wrap: normal;white-space: pre;background: #fff0;line-height: 1.1;font-family: &quot;Courier New&quot;,Courier,monospace\">     ┌───┐\n",
       "q_0: ┤ Y ├\n",
       "     └───┘\n",
       "q_1: ─────\n",
       "          \n",
       "q_2: ─────\n",
       "          \n",
       "q_3: ─────\n",
       "          \n",
       "q_4: ─────\n",
       "          \n",
       "q_5: ─────\n",
       "          \n",
       "q_6: ─────\n",
       "          \n",
       "q_7: ─────\n",
       "          </pre>"
      ],
      "text/plain": [
       "     ┌───┐\n",
       "q_0: ┤ Y ├\n",
       "     └───┘\n",
       "q_1: ─────\n",
       "          \n",
       "q_2: ─────\n",
       "          \n",
       "q_3: ─────\n",
       "          \n",
       "q_4: ─────\n",
       "          \n",
       "q_5: ─────\n",
       "          \n",
       "q_6: ─────\n",
       "          \n",
       "q_7: ─────\n",
       "          "
      ]
     },
     "execution_count": 21,
     "metadata": {},
     "output_type": "execute_result"
    }
   ],
   "source": [
    "decrypt_circuit.draw()"
   ]
  },
  {
   "cell_type": "code",
   "execution_count": 22,
   "metadata": {},
   "outputs": [],
   "source": [
    "decryption_circuit = decrypt_circuit.to_gate()"
   ]
  },
  {
   "cell_type": "code",
   "execution_count": 23,
   "metadata": {},
   "outputs": [
    {
     "data": {
      "text/plain": [
       "<qiskit.circuit.instructionset.InstructionSet at 0x22171c17d40>"
      ]
     },
     "execution_count": 23,
     "metadata": {},
     "output_type": "execute_result"
    }
   ],
   "source": [
    "circuit.append(decryption_circuit, [0,1,2,3,4,5,6,7])"
   ]
  },
  {
   "cell_type": "code",
   "execution_count": 24,
   "metadata": {},
   "outputs": [
    {
     "data": {
      "text/html": [
       "<pre style=\"word-wrap: normal;white-space: pre;background: #fff0;line-height: 1.1;font-family: &quot;Courier New&quot;,Courier,monospace\">     ┌────────────┐┌────────────┐\n",
       "q_0: ┤0           ├┤0           ├\n",
       "     │            ││            │\n",
       "q_1: ┤1           ├┤1           ├\n",
       "     │            ││            │\n",
       "q_2: ┤2           ├┤2           ├\n",
       "     │            ││            │\n",
       "q_3: ┤3           ├┤3           ├\n",
       "     │  circuit-2 ││  circuit-6 │\n",
       "q_4: ┤4           ├┤4           ├\n",
       "     │            ││            │\n",
       "q_5: ┤5           ├┤5           ├\n",
       "     │            ││            │\n",
       "q_6: ┤6           ├┤6           ├\n",
       "     │            ││            │\n",
       "q_7: ┤7           ├┤7           ├\n",
       "     └────────────┘└────────────┘\n",
       "c: 8/════════════════════════════\n",
       "                                 </pre>"
      ],
      "text/plain": [
       "     ┌────────────┐┌────────────┐\n",
       "q_0: ┤0           ├┤0           ├\n",
       "     │            ││            │\n",
       "q_1: ┤1           ├┤1           ├\n",
       "     │            ││            │\n",
       "q_2: ┤2           ├┤2           ├\n",
       "     │            ││            │\n",
       "q_3: ┤3           ├┤3           ├\n",
       "     │  circuit-2 ││  circuit-6 │\n",
       "q_4: ┤4           ├┤4           ├\n",
       "     │            ││            │\n",
       "q_5: ┤5           ├┤5           ├\n",
       "     │            ││            │\n",
       "q_6: ┤6           ├┤6           ├\n",
       "     │            ││            │\n",
       "q_7: ┤7           ├┤7           ├\n",
       "     └────────────┘└────────────┘\n",
       "c: 8/════════════════════════════\n",
       "                                 "
      ]
     },
     "execution_count": 24,
     "metadata": {},
     "output_type": "execute_result"
    }
   ],
   "source": [
    "circuit.draw()"
   ]
  },
  {
   "cell_type": "markdown",
   "metadata": {},
   "source": [
    "## Execute final circuit"
   ]
  },
  {
   "cell_type": "code",
   "execution_count": 25,
   "metadata": {},
   "outputs": [
    {
     "data": {
      "text/html": [
       "<pre style=\"word-wrap: normal;white-space: pre;background: #fff0;line-height: 1.1;font-family: &quot;Courier New&quot;,Courier,monospace\">     ┌────────────┐┌────────────┐┌─┐         \n",
       "q_0: ┤0           ├┤0           ├┤M├─────────\n",
       "     │            ││            │└╥┘┌─┐      \n",
       "q_1: ┤1           ├┤1           ├─╫─┤M├──────\n",
       "     │            ││            │ ║ └╥┘┌─┐   \n",
       "q_2: ┤2           ├┤2           ├─╫──╫─┤M├───\n",
       "     │            ││            │ ║  ║ └╥┘┌─┐\n",
       "q_3: ┤3           ├┤3           ├─╫──╫──╫─┤M├\n",
       "     │  circuit-2 ││  circuit-6 │ ║  ║  ║ └╥┘\n",
       "q_4: ┤4           ├┤4           ├─╫──╫──╫──╫─\n",
       "     │            ││            │ ║  ║  ║  ║ \n",
       "q_5: ┤5           ├┤5           ├─╫──╫──╫──╫─\n",
       "     │            ││            │ ║  ║  ║  ║ \n",
       "q_6: ┤6           ├┤6           ├─╫──╫──╫──╫─\n",
       "     │            ││            │ ║  ║  ║  ║ \n",
       "q_7: ┤7           ├┤7           ├─╫──╫──╫──╫─\n",
       "     └────────────┘└────────────┘ ║  ║  ║  ║ \n",
       "c: 8/═════════════════════════════╩══╩══╩══╩═\n",
       "                                  0  1  2  3 </pre>"
      ],
      "text/plain": [
       "     ┌────────────┐┌────────────┐┌─┐         \n",
       "q_0: ┤0           ├┤0           ├┤M├─────────\n",
       "     │            ││            │└╥┘┌─┐      \n",
       "q_1: ┤1           ├┤1           ├─╫─┤M├──────\n",
       "     │            ││            │ ║ └╥┘┌─┐   \n",
       "q_2: ┤2           ├┤2           ├─╫──╫─┤M├───\n",
       "     │            ││            │ ║  ║ └╥┘┌─┐\n",
       "q_3: ┤3           ├┤3           ├─╫──╫──╫─┤M├\n",
       "     │  circuit-2 ││  circuit-6 │ ║  ║  ║ └╥┘\n",
       "q_4: ┤4           ├┤4           ├─╫──╫──╫──╫─\n",
       "     │            ││            │ ║  ║  ║  ║ \n",
       "q_5: ┤5           ├┤5           ├─╫──╫──╫──╫─\n",
       "     │            ││            │ ║  ║  ║  ║ \n",
       "q_6: ┤6           ├┤6           ├─╫──╫──╫──╫─\n",
       "     │            ││            │ ║  ║  ║  ║ \n",
       "q_7: ┤7           ├┤7           ├─╫──╫──╫──╫─\n",
       "     └────────────┘└────────────┘ ║  ║  ║  ║ \n",
       "c: 8/═════════════════════════════╩══╩══╩══╩═\n",
       "                                  0  1  2  3 "
      ]
     },
     "execution_count": 25,
     "metadata": {},
     "output_type": "execute_result"
    }
   ],
   "source": [
    "circuit.measure([0,1,6,7], [0,1,6,7])\n",
    "circuit.draw()"
   ]
  },
  {
   "cell_type": "code",
   "execution_count": 26,
   "metadata": {},
   "outputs": [
    {
     "name": "stdout",
     "output_type": "stream",
     "text": [
      "{'00000001': 78, '00000000': 422, '00000110': 89, '00000111': 435}\n"
     ]
    }
   ],
   "source": [
    "simulator = QasmSimulator()\n",
    "compiled_circuit = transpile(circuit, simulator)\n",
    "job = simulator.run(compiled_circuit, shots=1024)\n",
    "result = job.result()\n",
    "counts = result.get_counts(circuit)\n",
    "print(counts)"
   ]
  },
  {
   "cell_type": "code",
   "execution_count": 27,
   "metadata": {},
   "outputs": [
    {
     "data": {
      "image/png": "[encoded data removed]",
      "text/plain": [
       "<Figure size 504x360 with 1 Axes>"
      ]
     },
     "execution_count": 27,
     "metadata": {},
     "output_type": "execute_result"
    }
   ],
   "source": [
    "plot_histogram(counts)"
   ]
  }
 ],
 "metadata": {
  "kernelspec": {
   "display_name": "Python 3",
   "language": "python",
   "name": "python3"
  },
  "language_info": {
   "codemirror_mode": {
    "name": "ipython",
    "version": 3
   },
   "file_extension": ".py",
   "mimetype": "text/x-python",
   "name": "python",
   "nbconvert_exporter": "python",
   "pygments_lexer": "ipython3",
   "version": "3.8.3"
  }
 },
 "nbformat": 4,
 "nbformat_minor": 4
}
